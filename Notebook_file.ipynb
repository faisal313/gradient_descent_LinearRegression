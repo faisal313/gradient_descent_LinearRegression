{
 "cells": [
  {
   "cell_type": "code",
   "execution_count": 3,
   "metadata": {},
   "outputs": [],
   "source": [
    "import numpy as np # numpy is a Linear Algebra Library for Math Operations."
   ]
  },
  {
   "cell_type": "code",
   "execution_count": 4,
   "metadata": {},
   "outputs": [],
   "source": [
    "def step_gradient(b_current, m_current, points, learningRate):\n",
    "    # starting points for our gradient\n",
    "    b_gradient = 0\n",
    "    m_gradient = 0\n",
    "    N = float(len(points))\n",
    "\n",
    "    for i in range(0, len(points)):\n",
    "        x = points[i,0]\n",
    "        y = points[i,1]\n",
    "        # find lowest error by calculating partial derivatives w.r.t --> b and m\n",
    "        b_gradient += -(2/N) * (y - ((m_current*x) + b_current))\n",
    "        m_gradient += -(2/N) *x* (y - ((m_current*x) + b_current))\n",
    "    # update b & m values\n",
    "    new_b = b_current - (learningRate * b_gradient)\n",
    "    new_m = m_current - (learningRate * m_gradient)\n",
    "    return [new_b, new_m]\n",
    "\n",
    "def gradient_descent_runner(points, starting_b, starting_m,learning_rate, num_iterations):\n",
    "    b = starting_b\n",
    "    m = starting_m\n",
    "    for i in range(num_iterations):\n",
    "        b,m = step_gradient(b, m, np.array(points), learning_rate)\n",
    "    return [b,m]\n",
    "\n",
    "def compute_error(b,m,points):\n",
    "    totalError = 0\n",
    "    for i in range(0, len(points)):\n",
    "        # get the x-value and y-value\n",
    "        x = points[i,0]\n",
    "        y = points[i,1]\n",
    "        # calculate error--> Mean Sqaured Error\n",
    "        totalError += (y - (m*x+b)) ** 2\n",
    "    return totalError / float(len(points))\n",
    "\n",
    "def run():\n",
    "    points = np.genfromtxt('Data.csv', delimiter=',')\n",
    "    # Slope of Line --> y = mx + b\n",
    "    initial_b = 0 # initial y-intercept guess\n",
    "    initial_m = 0 # initial slope guess\n",
    "    # Hyperparmeter --> How fast our Model should converge & # of Iterations\n",
    "    learning_rate = 0.0001\n",
    "    num_iterations = 1000\n",
    "\n",
    "    # Train our Model\n",
    "    print (f\"Starting gradient descent at b = {initial_b}, m = {initial_m}, error = {compute_error(initial_b, initial_m, points)}\")\n",
    "    print (\"Running...\")\n",
    "    [b, m] = gradient_descent_runner(points, initial_b, initial_m, learning_rate, num_iterations)\n",
    "    print (f\"After {num_iterations} iterations, b = {b}, m = {m}, error = {compute_error(b, m, points)}\")\n"
   ]
  },
  {
   "cell_type": "code",
   "execution_count": 5,
   "metadata": {},
   "outputs": [
    {
     "name": "stdout",
     "output_type": "stream",
     "text": [
      "Starting gradient descent at b = 0, m = 0, error = 5565.107834483211\n",
      "Running...\n",
      "After 1000 iterations, b = 0.08893651993741346, m = 1.4777440851894448, error = 112.61481011613473\n"
     ]
    }
   ],
   "source": [
    "# for executing run function automatically\n",
    "if __name__ == '__main__':\n",
    "    run()"
   ]
  },
  {
   "cell_type": "code",
   "execution_count": null,
   "metadata": {},
   "outputs": [],
   "source": []
  }
 ],
 "metadata": {
  "kernelspec": {
   "display_name": "Python 3",
   "language": "python",
   "name": "python3"
  },
  "language_info": {
   "codemirror_mode": {
    "name": "ipython",
    "version": 3
   },
   "file_extension": ".py",
   "mimetype": "text/x-python",
   "name": "python",
   "nbconvert_exporter": "python",
   "pygments_lexer": "ipython3",
   "version": "3.6.5"
  }
 },
 "nbformat": 4,
 "nbformat_minor": 2
}
